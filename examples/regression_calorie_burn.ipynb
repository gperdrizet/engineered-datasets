{
 "cells": [
  {
   "cell_type": "markdown",
   "id": "5e4940df",
   "metadata": {},
   "source": [
    "# Dataset ensemble"
   ]
  },
  {
   "cell_type": "code",
   "execution_count": 1,
   "id": "52073aa2",
   "metadata": {},
   "outputs": [],
   "source": [
    "import h5py\n",
    "import numpy as np\n",
    "import pandas as pd\n",
    "import matplotlib.pyplot as plt\n",
    "from ensembleset.dataset import DataSet\n",
    "from sklearn.metrics import mean_squared_log_error\n",
    "from sklearn.model_selection import train_test_split\n",
    "from sklearn.ensemble import HistGradientBoostingRegressor\n",
    "\n",
    "import functions.plotting_functions as plot_funcs"
   ]
  },
  {
   "cell_type": "markdown",
   "id": "d02324ab",
   "metadata": {},
   "source": [
    "## 1. Data preparation\n",
    "\n",
    "### 1.1. Load and prepare data"
   ]
  },
  {
   "cell_type": "code",
   "execution_count": 2,
   "id": "94c1234f",
   "metadata": {},
   "outputs": [
    {
     "data": {
      "text/html": [
       "<div>\n",
       "<style scoped>\n",
       "    .dataframe tbody tr th:only-of-type {\n",
       "        vertical-align: middle;\n",
       "    }\n",
       "\n",
       "    .dataframe tbody tr th {\n",
       "        vertical-align: top;\n",
       "    }\n",
       "\n",
       "    .dataframe thead th {\n",
       "        text-align: right;\n",
       "    }\n",
       "</style>\n",
       "<table border=\"1\" class=\"dataframe\">\n",
       "  <thead>\n",
       "    <tr style=\"text-align: right;\">\n",
       "      <th></th>\n",
       "      <th>User_ID</th>\n",
       "      <th>Gender</th>\n",
       "      <th>Age</th>\n",
       "      <th>Height</th>\n",
       "      <th>Weight</th>\n",
       "      <th>Duration</th>\n",
       "      <th>Heart_Rate</th>\n",
       "      <th>Body_Temp</th>\n",
       "      <th>Calories</th>\n",
       "    </tr>\n",
       "  </thead>\n",
       "  <tbody>\n",
       "    <tr>\n",
       "      <th>0</th>\n",
       "      <td>18917977</td>\n",
       "      <td>1.0</td>\n",
       "      <td>27</td>\n",
       "      <td>181.0</td>\n",
       "      <td>81.0</td>\n",
       "      <td>14.0</td>\n",
       "      <td>86.0</td>\n",
       "      <td>40.5</td>\n",
       "      <td>40.0</td>\n",
       "    </tr>\n",
       "    <tr>\n",
       "      <th>1</th>\n",
       "      <td>19407805</td>\n",
       "      <td>1.0</td>\n",
       "      <td>44</td>\n",
       "      <td>182.0</td>\n",
       "      <td>86.0</td>\n",
       "      <td>26.0</td>\n",
       "      <td>107.0</td>\n",
       "      <td>40.7</td>\n",
       "      <td>181.0</td>\n",
       "    </tr>\n",
       "    <tr>\n",
       "      <th>2</th>\n",
       "      <td>18111907</td>\n",
       "      <td>0.0</td>\n",
       "      <td>70</td>\n",
       "      <td>172.0</td>\n",
       "      <td>73.0</td>\n",
       "      <td>23.0</td>\n",
       "      <td>102.0</td>\n",
       "      <td>40.8</td>\n",
       "      <td>144.0</td>\n",
       "    </tr>\n",
       "    <tr>\n",
       "      <th>3</th>\n",
       "      <td>13610975</td>\n",
       "      <td>1.0</td>\n",
       "      <td>20</td>\n",
       "      <td>188.0</td>\n",
       "      <td>88.0</td>\n",
       "      <td>11.0</td>\n",
       "      <td>101.0</td>\n",
       "      <td>40.1</td>\n",
       "      <td>54.0</td>\n",
       "    </tr>\n",
       "    <tr>\n",
       "      <th>4</th>\n",
       "      <td>13505452</td>\n",
       "      <td>0.0</td>\n",
       "      <td>25</td>\n",
       "      <td>161.0</td>\n",
       "      <td>62.0</td>\n",
       "      <td>14.0</td>\n",
       "      <td>95.0</td>\n",
       "      <td>40.5</td>\n",
       "      <td>68.0</td>\n",
       "    </tr>\n",
       "  </tbody>\n",
       "</table>\n",
       "</div>"
      ],
      "text/plain": [
       "    User_ID  Gender  Age  Height  Weight  Duration  Heart_Rate  Body_Temp  \\\n",
       "0  18917977     1.0   27   181.0    81.0      14.0        86.0       40.5   \n",
       "1  19407805     1.0   44   182.0    86.0      26.0       107.0       40.7   \n",
       "2  18111907     0.0   70   172.0    73.0      23.0       102.0       40.8   \n",
       "3  13610975     1.0   20   188.0    88.0      11.0       101.0       40.1   \n",
       "4  13505452     0.0   25   161.0    62.0      14.0        95.0       40.5   \n",
       "\n",
       "   Calories  \n",
       "0      40.0  \n",
       "1     181.0  \n",
       "2     144.0  \n",
       "3      54.0  \n",
       "4      68.0  "
      ]
     },
     "execution_count": 2,
     "metadata": {},
     "output_type": "execute_result"
    }
   ],
   "source": [
    "data_df=pd.read_csv('data/calories.csv')\n",
    "data_df.head()"
   ]
  },
  {
   "cell_type": "code",
   "execution_count": 3,
   "id": "85f75481",
   "metadata": {},
   "outputs": [
    {
     "data": {
      "text/html": [
       "<div>\n",
       "<style scoped>\n",
       "    .dataframe tbody tr th:only-of-type {\n",
       "        vertical-align: middle;\n",
       "    }\n",
       "\n",
       "    .dataframe tbody tr th {\n",
       "        vertical-align: top;\n",
       "    }\n",
       "\n",
       "    .dataframe thead th {\n",
       "        text-align: right;\n",
       "    }\n",
       "</style>\n",
       "<table border=\"1\" class=\"dataframe\">\n",
       "  <thead>\n",
       "    <tr style=\"text-align: right;\">\n",
       "      <th></th>\n",
       "      <th>Gender</th>\n",
       "      <th>Age</th>\n",
       "      <th>Height</th>\n",
       "      <th>Weight</th>\n",
       "      <th>Duration</th>\n",
       "      <th>Heart_Rate</th>\n",
       "      <th>Body_Temp</th>\n",
       "      <th>Calories</th>\n",
       "    </tr>\n",
       "  </thead>\n",
       "  <tbody>\n",
       "    <tr>\n",
       "      <th>2095</th>\n",
       "      <td>0.0</td>\n",
       "      <td>45</td>\n",
       "      <td>169.0</td>\n",
       "      <td>66.0</td>\n",
       "      <td>19.0</td>\n",
       "      <td>97.0</td>\n",
       "      <td>40.5</td>\n",
       "      <td>102.0</td>\n",
       "    </tr>\n",
       "    <tr>\n",
       "      <th>1280</th>\n",
       "      <td>0.0</td>\n",
       "      <td>20</td>\n",
       "      <td>155.0</td>\n",
       "      <td>51.0</td>\n",
       "      <td>11.0</td>\n",
       "      <td>98.0</td>\n",
       "      <td>39.7</td>\n",
       "      <td>58.0</td>\n",
       "    </tr>\n",
       "    <tr>\n",
       "      <th>5258</th>\n",
       "      <td>0.0</td>\n",
       "      <td>40</td>\n",
       "      <td>157.0</td>\n",
       "      <td>56.0</td>\n",
       "      <td>4.0</td>\n",
       "      <td>87.0</td>\n",
       "      <td>38.4</td>\n",
       "      <td>17.0</td>\n",
       "    </tr>\n",
       "    <tr>\n",
       "      <th>5137</th>\n",
       "      <td>0.0</td>\n",
       "      <td>33</td>\n",
       "      <td>169.0</td>\n",
       "      <td>71.0</td>\n",
       "      <td>24.0</td>\n",
       "      <td>104.0</td>\n",
       "      <td>40.9</td>\n",
       "      <td>140.0</td>\n",
       "    </tr>\n",
       "    <tr>\n",
       "      <th>8522</th>\n",
       "      <td>0.0</td>\n",
       "      <td>43</td>\n",
       "      <td>175.0</td>\n",
       "      <td>72.0</td>\n",
       "      <td>23.0</td>\n",
       "      <td>100.0</td>\n",
       "      <td>40.7</td>\n",
       "      <td>128.0</td>\n",
       "    </tr>\n",
       "  </tbody>\n",
       "</table>\n",
       "</div>"
      ],
      "text/plain": [
       "      Gender  Age  Height  Weight  Duration  Heart_Rate  Body_Temp  Calories\n",
       "2095     0.0   45   169.0    66.0      19.0        97.0       40.5     102.0\n",
       "1280     0.0   20   155.0    51.0      11.0        98.0       39.7      58.0\n",
       "5258     0.0   40   157.0    56.0       4.0        87.0       38.4      17.0\n",
       "5137     0.0   33   169.0    71.0      24.0       104.0       40.9     140.0\n",
       "8522     0.0   43   175.0    72.0      23.0       100.0       40.7     128.0"
      ]
     },
     "execution_count": 3,
     "metadata": {},
     "output_type": "execute_result"
    }
   ],
   "source": [
    "data_df.drop('User_ID', axis=1, inplace=True)\n",
    "train_df, test_df=train_test_split(data_df)\n",
    "train_df.head()"
   ]
  },
  {
   "cell_type": "markdown",
   "id": "a69452af",
   "metadata": {},
   "source": [
    "### 1.2. Generate ensembleset"
   ]
  },
  {
   "cell_type": "code",
   "execution_count": null,
   "id": "b5188642",
   "metadata": {},
   "outputs": [
    {
     "name": "stdout",
     "output_type": "stream",
     "text": [
      "\n",
      "Generating dataset 1 of 10\n",
      " Applying ratio_features\n",
      " Applying difference_features\n",
      " Applying spline_features\n",
      "\n",
      "Generating dataset 2 of 10\n",
      " Applying exponential_features\n",
      " Applying sum_features\n",
      " Applying poly_features\n",
      "\n",
      "Generating dataset 3 of 10\n",
      " Applying poly_features\n",
      " Applying spline_features\n",
      " Applying log_features\n",
      "\n",
      "Generating dataset 4 of 10\n",
      " Applying ratio_features\n",
      " Applying sum_features\n",
      " Applying poly_features\n",
      "\n",
      "Generating dataset 5 of 10\n",
      " Applying difference_features\n",
      " Applying spline_features\n",
      " Applying poly_features\n",
      "\n",
      "Generating dataset 6 of 10\n",
      " Applying log_features\n",
      " Applying sum_features\n",
      " Applying spline_features\n",
      "\n",
      "Generating dataset 7 of 10\n",
      " Applying ratio_features\n",
      " Applying poly_features\n",
      " Applying sum_features\n",
      "\n",
      "Generating dataset 8 of 10\n",
      " Applying exponential_features\n",
      " Applying ratio_features\n",
      " Applying difference_features\n",
      "\n",
      "Generating dataset 9 of 10\n",
      " Applying difference_features\n",
      " Applying log_features\n",
      " Applying exponential_features\n",
      "\n",
      "Generating dataset 10 of 10\n",
      " Applying ratio_features\n",
      " Applying exponential_features\n",
      " Applying difference_features\n"
     ]
    }
   ],
   "source": [
    "ensemble_members=10\n",
    "\n",
    "data_ensemble=DataSet(\n",
    "    label='Calories',\n",
    "    train_data=train_df,\n",
    "    test_data=test_df\n",
    ")\n",
    "\n",
    "data_ensemble.make_datasets(\n",
    "    n_datasets=ensemble_members,\n",
    "    n_features=5,\n",
    "    n_steps=3\n",
    ")"
   ]
  },
  {
   "cell_type": "markdown",
   "id": "4f1ec89d",
   "metadata": {},
   "source": [
    "## 2. Gradient boosting: original data"
   ]
  },
  {
   "cell_type": "code",
   "execution_count": 7,
   "id": "24c72322",
   "metadata": {},
   "outputs": [
    {
     "data": {
      "image/png": "[encoded data removed]",
      "text/plain": [
       "<Figure size 800x400 with 2 Axes>"
      ]
     },
     "metadata": {},
     "output_type": "display_data"
    }
   ],
   "source": [
    "model=HistGradientBoostingRegressor(loss='gamma')\n",
    "model.fit(train_df.drop('Calories', axis=1), train_df['Calories'])\n",
    "\n",
    "predictions=model.predict(test_df.drop('Calories', axis=1))\n",
    "labels=test_df['Calories']\n",
    "rmsle=np.sqrt(mean_squared_log_error(labels, predictions))\n",
    "\n",
    "plot_title=f'HistGradientBoostingRegressor(): RMSLE {rmsle:.4f}'\n",
    "plot_funcs.model_eval(plot_title, 'calories burned', predictions, labels)"
   ]
  },
  {
   "cell_type": "markdown",
   "id": "26a19a26",
   "metadata": {},
   "source": [
    "## 3. Ensemble model\n",
    "\n",
    "### 3.1. Stage I"
   ]
  },
  {
   "cell_type": "code",
   "execution_count": null,
   "id": "aea8fe67",
   "metadata": {},
   "outputs": [
    {
     "name": "stdout",
     "output_type": "stream",
     "text": [
      "Datasets:\n",
      " test: ['0', '1', '2', '3', '4', '5', '6', '7', '8', '9', 'labels']\n",
      " train: ['0', '1', '2', '3', '4', '5', '6', '7', '8', '9', 'labels']\n"
     ]
    }
   ],
   "source": [
    "models={}\n",
    "\n",
    "\n",
    "\n",
    "with h5py.File('data/dataset.h5', 'r') as hdf:\n",
    "\n",
    "for \n",
    "\n",
    "for name in hdf:\n",
    "    print(f' {name}: {list(hdf[name])}')\n",
    "\n",
    "hdf.close()"
   ]
  }
 ],
 "metadata": {
  "kernelspec": {
   "display_name": ".venv",
   "language": "python",
   "name": "python3"
  },
  "language_info": {
   "codemirror_mode": {
    "name": "ipython",
    "version": 3
   },
   "file_extension": ".py",
   "mimetype": "text/x-python",
   "name": "python",
   "nbconvert_exporter": "python",
   "pygments_lexer": "ipython3",
   "version": "3.10.17"
  }
 },
 "nbformat": 4,
 "nbformat_minor": 5
}
