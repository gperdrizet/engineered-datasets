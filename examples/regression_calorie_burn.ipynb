{
 "cells": [
  {
   "cell_type": "markdown",
   "id": "5e4940df",
   "metadata": {},
   "source": [
    "# Dataset ensemble"
   ]
  },
  {
   "cell_type": "code",
   "execution_count": null,
   "id": "52073aa2",
   "metadata": {},
   "outputs": [],
   "source": [
    "import h5py\n",
    "import pandas as pd\n",
    "from sklearn.model_selection import train_test_split\n",
    "from ensembleset.dataset import DataSet"
   ]
  },
  {
   "cell_type": "markdown",
   "id": "d02324ab",
   "metadata": {},
   "source": [
    "## 1. Data preparation\n",
    "\n",
    "### 1.1. Load and prepare data"
   ]
  },
  {
   "cell_type": "code",
   "execution_count": null,
   "id": "94c1234f",
   "metadata": {},
   "outputs": [],
   "source": [
    "data_df=pd.read_csv('data/calories.csv')\n",
    "data_df.head()"
   ]
  },
  {
   "cell_type": "code",
   "execution_count": null,
   "id": "85f75481",
   "metadata": {},
   "outputs": [],
   "source": [
    "data_df.drop('User_ID', axis=1, inplace=True)\n",
    "train_df, test_df=train_test_split(data_df)\n",
    "train_df.head()"
   ]
  },
  {
   "cell_type": "markdown",
   "id": "a69452af",
   "metadata": {},
   "source": [
    "### 1.2. Generate ensembleset"
   ]
  },
  {
   "cell_type": "code",
   "execution_count": null,
   "id": "b5188642",
   "metadata": {},
   "outputs": [],
   "source": [
    "data_ensemble=DataSet(\n",
    "    label='Calories',\n",
    "    train_data=train_df,\n",
    "    test_data=test_df\n",
    ")\n",
    "\n",
    "data_ensemble.make_datasets(\n",
    "    n_datasets=10,\n",
    "    n_features=5,\n",
    "    n_steps=3\n",
    ")"
   ]
  },
  {
   "cell_type": "markdown",
   "id": "4f1ec89d",
   "metadata": {},
   "source": [
    "## 2. Open ensembleset connection"
   ]
  },
  {
   "cell_type": "code",
   "execution_count": null,
   "id": "aea8fe67",
   "metadata": {},
   "outputs": [],
   "source": [
    "hdf = h5py.File('data/dataset.h5', 'r')\n",
    "\n",
    "print('Datasets:')\n",
    "\n",
    "for name in hdf:\n",
    "    print(f' {name}: {list(hdf[name])}')\n",
    "\n",
    "hdf.close()"
   ]
  }
 ],
 "metadata": {
  "kernelspec": {
   "display_name": ".venv-test",
   "language": "python",
   "name": "python3"
  },
  "language_info": {
   "codemirror_mode": {
    "name": "ipython",
    "version": 3
   },
   "file_extension": ".py",
   "mimetype": "text/x-python",
   "name": "python",
   "nbconvert_exporter": "python",
   "pygments_lexer": "ipython3",
   "version": "3.10.17"
  }
 },
 "nbformat": 4,
 "nbformat_minor": 5
}
